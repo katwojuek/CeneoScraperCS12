{
 "cells": [
  {
   "cell_type": "markdown",
   "metadata": {},
   "source": [
    "### Imports"
   ]
  },
  {
   "cell_type": "code",
   "execution_count": 32,
   "metadata": {},
   "outputs": [],
   "source": [
    "import os\n",
    "import json\n",
    "import requests\n",
    "from bs4 import BeautifulSoup"
   ]
  },
  {
   "cell_type": "markdown",
   "metadata": {},
   "source": [
    "### Excraction of opinions"
   ]
  },
  {
   "cell_type": "code",
   "execution_count": 29,
   "metadata": {},
   "outputs": [],
   "source": [
    "with open(\"./cookie.json\", \"r\", encoding=\"UTF-8\") as jf: \n",
    "\theaders = json.load(jf)"
   ]
  },
  {
   "cell_type": "code",
   "execution_count": 30,
   "metadata": {},
   "outputs": [
    {
     "name": "stdout",
     "output_type": "stream",
     "text": [
      "https://www.ceneo.pl/84514582#tab=reviews\n",
      "10\n",
      "https://www.ceneo.pl/84514582/opinie-2\n",
      "10\n",
      "https://www.ceneo.pl/84514582/opinie-3\n",
      "10\n",
      "https://www.ceneo.pl/84514582/opinie-4\n",
      "10\n",
      "https://www.ceneo.pl/84514582/opinie-5\n",
      "10\n",
      "https://www.ceneo.pl/84514582/opinie-6\n",
      "10\n",
      "https://www.ceneo.pl/84514582/opinie-7\n",
      "0\n"
     ]
    }
   ],
   "source": [
    "product_id = \"84514582\"\n",
    "url = f\"https://www.ceneo.pl/{product_id}#tab=reviews\"\n",
    "all_opinions = []\n",
    "while url:\n",
    "    response = requests.get(url, headers = headers)\n",
    "    if response.status_code == 200:\n",
    "        print(url)\n",
    "        page_dom = BeautifulSoup(response.text, 'html.parser')\n",
    "        opinions = page_dom.select(\"div.js_product-review:not(.user-post--highlight)\")\n",
    "        print(len(opinions))\n",
    "        for opinion in opinions:\n",
    "            single_opinion = {}\n",
    "            single_opinion['opinion_id'] = opinion[\"data-entry-id\"]\n",
    "            single_opinion['author'] = opinion.select_one(\"span.user-post__author-name\").text.strip()\n",
    "            try:\n",
    "                single_opinion['recommend'] = opinion.select_one(\"span.user-post__author-recomendation > em\").text.strip()\n",
    "            except AttributeError:\n",
    "                single_opinion['recommend'] = None\n",
    "            single_opinion['stars'] = opinion.select_one(\"span.user-post__score-count\").text.strip()\n",
    "            single_opinion['content'] = opinion.select_one(\"div.user-post__text\").text.strip()\n",
    "            single_opinion['pros'] = [tag.text.strip() for tag in opinion.select(\"div.review-feature__item--positive\")]\n",
    "            single_opinion['cons'] = [tag.text.strip() for tag in opinion.select(\"div.review-feature__item--negative\")]\n",
    "            single_opinion['up_votes'] = opinion.select_one(\"button.vote-yes\")[\"data-total-vote\"].strip()\n",
    "            single_opinion['down_votes'] = opinion.select_one(\"button.vote-no\")[\"data-total-vote\"].strip()\n",
    "            single_opinion['published'] = opinion.select_one(\"span.user-post__published > time:nth-child(1)\")[\"datetime\"].strip()\n",
    "            try:\n",
    "                single_opinion['purchased'] = opinion.select_one(\"span.user-post__published > time:nth-child(2)\")[\"datetime\"].strip()\n",
    "            except TypeError:\n",
    "                single_opinion['purchased'] = None\n",
    "            all_opinions.append(single_opinion)\n",
    "        try:\n",
    "            url = \"https://www.ceneo.pl\"+page_dom.select_one(\"a.pagination__next\")[\"href\"]\n",
    "        except TypeError:\n",
    "            url = None"
   ]
  },
  {
   "cell_type": "markdown",
   "metadata": {},
   "source": [
    "### Creation of database"
   ]
  },
  {
   "cell_type": "code",
   "execution_count": 33,
   "metadata": {},
   "outputs": [],
   "source": [
    "if not os.path.exists(\"./opinions\"):\n",
    "    os.mkdir(\"./opinions\")"
   ]
  },
  {
   "cell_type": "code",
   "execution_count": 36,
   "metadata": {},
   "outputs": [],
   "source": [
    "with open(f\"./opinions/{product_id}.json\", \"w\", encoding=\"UTF-8\") as jf:\n",
    "    json.dump(all_opinions, jf, indent=4, ensure_ascii=False)"
   ]
  }
 ],
 "metadata": {
  "kernelspec": {
   "display_name": ".venv",
   "language": "python",
   "name": "python3"
  },
  "language_info": {
   "codemirror_mode": {
    "name": "ipython",
    "version": 3
   },
   "file_extension": ".py",
   "mimetype": "text/x-python",
   "name": "python",
   "nbconvert_exporter": "python",
   "pygments_lexer": "ipython3",
   "version": "3.11.4"
  }
 },
 "nbformat": 4,
 "nbformat_minor": 2
}
